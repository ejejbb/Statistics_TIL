{
  "nbformat": 4,
  "nbformat_minor": 0,
  "metadata": {
    "colab": {
      "private_outputs": true,
      "provenance": []
    },
    "kernelspec": {
      "name": "python3",
      "display_name": "Python 3"
    },
    "language_info": {
      "name": "python"
    }
  },
  "cells": [
    {
      "cell_type": "markdown",
      "source": [
        "# EDA 실습"
      ],
      "metadata": {
        "id": "MIuEvr7CH2JC"
      }
    },
    {
      "cell_type": "code",
      "source": [
        "# 패키지 설치\n",
        "\n",
        "import seaborn as sns\n",
        "import matplotlib.pyplot as plt\n",
        "import pandas as pd\n",
        "sns.set(color_codes=True)\n",
        "%matplotlib inline\n",
        "\n",
        "# 도표를 포함한 그림, 소리, 애니메이션 과 같은 결과물들을 코드를 실행한 해당 브라우저에서 '바로' 볼 수 있게 해주는 코드"
      ],
      "metadata": {
        "id": "p9cay6_XH8oM"
      },
      "execution_count": null,
      "outputs": []
    },
    {
      "cell_type": "code",
      "execution_count": null,
      "metadata": {
        "id": "cAshyyd5GvBP"
      },
      "outputs": [],
      "source": [
        "# 데이터 불러오기\n",
        "\n",
        "url = \"https://raw.githubusercontent.com/ejejbb/Template/refs/heads/main/File/%EC%8B%A4%EC%8A%B5%EC%BD%94%EB%93%9C/hotel_bookings.csv\"\n",
        "df = pd.read_csv(url)\n",
        "\n",
        "# 데이터 샘플 확인\n",
        "df.head()"
      ]
    },
    {
      "cell_type": "code",
      "source": [
        "# 각 컬럼의 속성 및 결측치 확인\n",
        "df.info()\n",
        "\n",
        "## 이 단계에서 dtype, 결측치를 확인"
      ],
      "metadata": {
        "id": "EaTay0p2I9UN"
      },
      "execution_count": null,
      "outputs": []
    },
    {
      "cell_type": "markdown",
      "source": [
        "[결측치]   \n",
        "children 칼럼의 경우 4개(0%) -> 표본 제거 처리법    \n",
        "country 칼럼의 경우 488개(0.41%)   \n",
        "agent 칼럼의 경우 16,340개(13.69%)   \n",
        "company 칼럼의 경우 112,593개(94.31%) -> 결측치 대체 -> 11장"
      ],
      "metadata": {
        "id": "3fF5DRh9JpaY"
      }
    },
    {
      "cell_type": "code",
      "source": [
        "# 각 컬럼의 통계치 확인\n",
        "df.describe()\n",
        "\n",
        "## 문자형과 다름없는 칼럼은 통계치 의미가 크게 없음을 주의"
      ],
      "metadata": {
        "id": "bUJiEijqK_O0"
      },
      "execution_count": null,
      "outputs": []
    },
    {
      "cell_type": "code",
      "source": [
        "# 각 컬럼의 왜도 확인\n",
        "# 정규분포의 왜도=0\n",
        "# 양수 -> 왼쪽으로 치우침\n",
        "## 변숫값 분포의 정규성이 필요한 경우 로그변환, 정규화, 표준화 등의 방법을 사용할 수 있다.\n",
        "\n",
        "df.skew(numeric_only=True)"
      ],
      "metadata": {
        "id": "UdxcgPrMLZkd"
      },
      "execution_count": null,
      "outputs": []
    },
    {
      "cell_type": "code",
      "source": [
        "# 각 컬럼의 첨도 확인\n",
        "# 정규분포의 첨도=3\n",
        "# 큰 값 -> 뾰족 = 분포가 넓지 않음\n",
        "\n",
        "df.kurtosis(numeric_only=True)"
      ],
      "metadata": {
        "id": "OnNh_c-POefj"
      },
      "execution_count": null,
      "outputs": []
    },
    {
      "cell_type": "code",
      "source": [
        "# 특정 변수 분포 시각화\n",
        "# lead_time은 예약 날짜로부터 투숙 날짜까지의 일수 차이\n",
        "# 0 값이 많으므로 당일 체크인하는 투숙객이 많음을 확인\n",
        "sns.distplot(df['lead_time'])"
      ],
      "metadata": {
        "id": "JM6DFYs9PD2A"
      },
      "execution_count": null,
      "outputs": []
    },
    {
      "cell_type": "code",
      "source": [
        "# 호텔 구분에 따른 lead_time 분포 차이 시각화\n",
        "sns.violinplot(x=\"hotel\", y=\"lead_time\", data=df, inner=None, color=\".8\")\n",
        "sns.stripplot(x=\"hotel\", y=\"lead_time\", data=df, size=1, palette='Set2')"
      ],
      "metadata": {
        "id": "Qww84urdPJmG"
      },
      "execution_count": null,
      "outputs": []
    }
  ]
}